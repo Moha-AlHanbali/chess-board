{
 "cells": [
  {
   "cell_type": "code",
   "execution_count": 798,
   "metadata": {},
   "outputs": [],
   "source": [
    "%matplotlib inline\n",
    "import numpy as np\n",
    "import matplotlib.pyplot as plt"
   ]
  },
  {
   "cell_type": "code",
   "execution_count": 799,
   "metadata": {},
   "outputs": [],
   "source": [
    "black = (0,0,0)\n",
    "white = (1,1,1)\n",
    "red = (1,.2,0)\n",
    "blue = (0,1,1)"
   ]
  },
  {
   "cell_type": "code",
   "execution_count": 800,
   "metadata": {},
   "outputs": [],
   "source": [
    "class ChessBoard:\n",
    "    \"\"\"\n",
    "    Creates a Chess Board and inserts opposite sides Queens where specified. Then checks if they are in range for attacking each other.\n",
    "    \"\"\"\n",
    "    def __init__(self):\n",
    "        self.grid = np.ones((8,8,3))\n",
    "        self.grid[1::2, ::2] = black\n",
    "        self.grid[::2, 1::2] = black\n",
    "        self.red = []\n",
    "        self.blue = []\n",
    "\n",
    "    \n",
    "    def add_red(self, row, column):\n",
    "        \"\"\"\n",
    "        Adds Red side Queen.\n",
    "\n",
    "        Arguments:\n",
    "        row: Row number\n",
    "        column: Column number\n",
    "\n",
    "\n",
    "        Return:\n",
    "        Creates a Queen in that location.\n",
    "        \"\"\"\n",
    "\n",
    "        self.red = [row, column]\n",
    "        self.grid[row-1:row, column-1:column] = red\n",
    "\n",
    "\n",
    "    def add_blue(self, row, column):\n",
    "        \"\"\"\n",
    "        Adds Blue side Queen.\n",
    "\n",
    "        Arguments:\n",
    "        row: Row number\n",
    "        column: Column number\n",
    "\n",
    "\n",
    "        Return:\n",
    "        Creates a Queen in that location.\n",
    "        \"\"\"\n",
    "        self.blue = [row, column]\n",
    "        self.grid[row-1:row, column-1:column] = blue\n",
    "\n",
    "\n",
    "    def render(self):\n",
    "        \"\"\"\n",
    "        Adds Blue side Queen.\n",
    "\n",
    "        Arguments: None\n",
    "\n",
    "        Return:\n",
    "        An Illustration of the current state of the board.\n",
    "        \"\"\"\n",
    "        f, ax = plt.subplots()\n",
    "        x = [1, 2, 3 ,4, 5, 6, 7 ,8]\n",
    "        y = [8, 7, 6, 5, 4 ,3 ,2, 1]\n",
    "\n",
    "        ax.set_xticks(range(len(x)))\n",
    "        ax.set_yticks(range(len(y)))\n",
    "\n",
    "        ax.set_xticklabels(x)\n",
    "        ax.set_yticklabels(x)\n",
    "\n",
    "        plt.imshow(self.grid)\n",
    "\n",
    "    def is_under_attack(self):\n",
    "        \"\"\"\n",
    "        Checks if the Queens are alligned to attack one another or not.\n",
    "\n",
    "        Arguments: None\n",
    "\n",
    "        Return: Boolean\n",
    "        \"\"\"\n",
    "        if (self.blue[0] == self.red[0]) or (self.blue[1] == self.red[1]) or (self.blue[0] + self.blue[1] == self.red[0] + self.red[1]) or ((self.blue[0] + self.red[1]) == (self.red[0] + self.blue[1])):\n",
    "            return True\n",
    "        else:\n",
    "            return False"
   ]
  },
  {
   "cell_type": "code",
   "execution_count": 801,
   "metadata": {},
   "outputs": [
    {
     "data": {
      "image/png": "[encoded data removed]",
      "text/plain": [
       "<Figure size 432x288 with 1 Axes>"
      ]
     },
     "metadata": {
      "needs_background": "light"
     },
     "output_type": "display_data"
    }
   ],
   "source": [
    "def test_is_under_attack_same_row_T():\n",
    "    #Arrange\n",
    "    board = ChessBoard()\n",
    "    board.add_red(1,1)\n",
    "    board.add_blue(1,8)\n",
    "    board.render()\n",
    "    expected = True\n",
    "\n",
    "\n",
    "    #Act\n",
    "    actual = board.is_under_attack()\n",
    "    \n",
    "    #Assert\n",
    "    assert actual == expected\n",
    "\n",
    "test_is_under_attack_same_row_T()"
   ]
  },
  {
   "cell_type": "code",
   "execution_count": 802,
   "metadata": {},
   "outputs": [
    {
     "data": {
      "image/png": "[encoded data removed]",
      "text/plain": [
       "<Figure size 432x288 with 1 Axes>"
      ]
     },
     "metadata": {
      "needs_background": "light"
     },
     "output_type": "display_data"
    }
   ],
   "source": [
    "def test_is_under_attack_same_row_F():\n",
    "    #Arrange\n",
    "    board = ChessBoard()\n",
    "    board.add_red(2,2)\n",
    "    board.add_blue(1,8)\n",
    "    board.render()\n",
    "    expected = False\n",
    "\n",
    "    #Act\n",
    "    actual = board.is_under_attack()\n",
    "    \n",
    "    #Assert\n",
    "    assert actual == expected\n",
    "\n",
    "test_is_under_attack_same_row_F()"
   ]
  },
  {
   "cell_type": "code",
   "execution_count": 803,
   "metadata": {},
   "outputs": [
    {
     "data": {
      "image/png": "[encoded data removed]",
      "text/plain": [
       "<Figure size 432x288 with 1 Axes>"
      ]
     },
     "metadata": {
      "needs_background": "light"
     },
     "output_type": "display_data"
    }
   ],
   "source": [
    "def test_is_under_attack_same_column_T():\n",
    "    #Arrange\n",
    "    board = ChessBoard()\n",
    "    board.add_red(1,1)\n",
    "    board.add_blue(1,8)\n",
    "    board.render()\n",
    "    expected = True\n",
    "\n",
    "    #Act\n",
    "    actual = board.is_under_attack()\n",
    "    \n",
    "    #Assert\n",
    "    assert actual == expected\n",
    "\n",
    "test_is_under_attack_same_column_T()  "
   ]
  },
  {
   "cell_type": "code",
   "execution_count": 804,
   "metadata": {},
   "outputs": [
    {
     "data": {
      "image/png": "[encoded data removed]",
      "text/plain": [
       "<Figure size 432x288 with 1 Axes>"
      ]
     },
     "metadata": {
      "needs_background": "light"
     },
     "output_type": "display_data"
    }
   ],
   "source": [
    "def test_is_under_attack_same_column_F():\n",
    "    #Arrange\n",
    "    board = ChessBoard()\n",
    "    board.add_red(1,1)\n",
    "    board.add_blue(2,3)\n",
    "    board.render()\n",
    "    expected = False\n",
    "\n",
    "    #Act\n",
    "    actual = board.is_under_attack()\n",
    "    \n",
    "    #Assert\n",
    "    assert actual == expected\n",
    "\n",
    "test_is_under_attack_same_column_F()"
   ]
  },
  {
   "cell_type": "code",
   "execution_count": 805,
   "metadata": {},
   "outputs": [
    {
     "data": {
      "image/png": "[encoded data removed]",
      "text/plain": [
       "<Figure size 432x288 with 1 Axes>"
      ]
     },
     "metadata": {
      "needs_background": "light"
     },
     "output_type": "display_data"
    }
   ],
   "source": [
    "def test_is_under_attack_diagonal_1():\n",
    "    #Arrange\n",
    "    board = ChessBoard()\n",
    "    board.add_red(1,1)\n",
    "    board.add_blue(8,8)\n",
    "    board.render()\n",
    "    expected = True\n",
    "\n",
    "    #Act\n",
    "    actual = board.is_under_attack()\n",
    "    \n",
    "    #Assert\n",
    "    assert actual == expected\n",
    "\n",
    "test_is_under_attack_diagonal_1()"
   ]
  },
  {
   "cell_type": "code",
   "execution_count": 806,
   "metadata": {},
   "outputs": [
    {
     "data": {
      "image/png": "[encoded data removed]",
      "text/plain": [
       "<Figure size 432x288 with 1 Axes>"
      ]
     },
     "metadata": {
      "needs_background": "light"
     },
     "output_type": "display_data"
    }
   ],
   "source": [
    "def test_is_under_attack_diagonal_2():\n",
    "    #Arrange\n",
    "    board = ChessBoard()\n",
    "    board.add_red(1,8)\n",
    "    board.add_blue(8,1)\n",
    "    board.render()\n",
    "    expected = True\n",
    "\n",
    "    #Act\n",
    "    actual = board.is_under_attack()\n",
    "\n",
    "    #Assert\n",
    "    assert actual == expected\n",
    "\n",
    "test_is_under_attack_diagonal_2()"
   ]
  },
  {
   "cell_type": "code",
   "execution_count": 807,
   "metadata": {},
   "outputs": [
    {
     "data": {
      "image/png": "[encoded data removed]",
      "text/plain": [
       "<Figure size 432x288 with 1 Axes>"
      ]
     },
     "metadata": {
      "needs_background": "light"
     },
     "output_type": "display_data"
    }
   ],
   "source": [
    "def test_is_under_attack_diagonal_3():\n",
    "    #Arrange\n",
    "    board = ChessBoard()\n",
    "    board.add_red(2,1)\n",
    "    board.add_blue(7,6)\n",
    "    board.render()\n",
    "    expected = True\n",
    "\n",
    "    #Act\n",
    "    actual = board.is_under_attack()\n",
    "\n",
    "    #Assert\n",
    "    assert actual == expected\n",
    "\n",
    "test_is_under_attack_diagonal_3()"
   ]
  },
  {
   "cell_type": "code",
   "execution_count": 808,
   "metadata": {},
   "outputs": [
    {
     "data": {
      "image/png": "[encoded data removed]",
      "text/plain": [
       "<Figure size 432x288 with 1 Axes>"
      ]
     },
     "metadata": {
      "needs_background": "light"
     },
     "output_type": "display_data"
    }
   ],
   "source": [
    "def test_is_under_attack_diagonal_4():\n",
    "    #Arrange\n",
    "    board = ChessBoard()\n",
    "    board.add_red(6,8)\n",
    "    board.add_blue(8,6)\n",
    "    board.render()\n",
    "    expected = True\n",
    "\n",
    "    #Act\n",
    "    actual = board.is_under_attack()\n",
    "\n",
    "    #Assert\n",
    "    assert actual == expected\n",
    "\n",
    "test_is_under_attack_diagonal_4()"
   ]
  },
  {
   "cell_type": "code",
   "execution_count": 809,
   "metadata": {},
   "outputs": [
    {
     "data": {
      "image/png": "[encoded data removed]",
      "text/plain": [
       "<Figure size 432x288 with 1 Axes>"
      ]
     },
     "metadata": {
      "needs_background": "light"
     },
     "output_type": "display_data"
    }
   ],
   "source": [
    "def test_is_under_attack_diagonal_5():\n",
    "    #Arrange\n",
    "    board = ChessBoard()\n",
    "    board.add_red(3,1)\n",
    "    board.add_blue(8,6)\n",
    "    board.render()\n",
    "    expected = True\n",
    "\n",
    "    #Act\n",
    "    actual = board.is_under_attack()\n",
    "\n",
    "    #Assert\n",
    "    assert actual == expected\n",
    "\n",
    "test_is_under_attack_diagonal_5()"
   ]
  },
  {
   "cell_type": "code",
   "execution_count": 810,
   "metadata": {},
   "outputs": [
    {
     "data": {
      "image/png": "[encoded data removed]",
      "text/plain": [
       "<Figure size 432x288 with 1 Axes>"
      ]
     },
     "metadata": {
      "needs_background": "light"
     },
     "output_type": "display_data"
    }
   ],
   "source": [
    "def test_is_under_attack_diagonal_5():\n",
    "    #Arrange\n",
    "    board = ChessBoard()\n",
    "    board.add_red(1,6)\n",
    "    board.add_blue(5,2)\n",
    "    board.render()\n",
    "    expected = True\n",
    "\n",
    "    #Act\n",
    "    actual = board.is_under_attack()\n",
    "\n",
    "    #Assert\n",
    "    assert actual == expected\n",
    "\n",
    "test_is_under_attack_diagonal_5()"
   ]
  },
  {
   "cell_type": "code",
   "execution_count": 811,
   "metadata": {},
   "outputs": [
    {
     "data": {
      "image/png": "[encoded data removed]",
      "text/plain": [
       "<Figure size 432x288 with 1 Axes>"
      ]
     },
     "metadata": {
      "needs_background": "light"
     },
     "output_type": "display_data"
    }
   ],
   "source": [
    "def test_is_under_attack_diagonal_6():\n",
    "    #Arrange\n",
    "    board = ChessBoard()\n",
    "    board.add_red(8,6)\n",
    "    board.add_blue(2,2)\n",
    "    board.render()\n",
    "    expected = False\n",
    "\n",
    "    #Act\n",
    "    actual = board.is_under_attack()\n",
    "\n",
    "    #Assert\n",
    "    assert actual == expected\n",
    "\n",
    "test_is_under_attack_diagonal_6()"
   ]
  }
 ],
 "metadata": {
  "interpreter": {
   "hash": "85aa6a341112f36237f6a66470c2181cbc00a5cc1d8d4ddb6d8154675fde9fab"
  },
  "kernelspec": {
   "display_name": "Python 3.9.5 64-bit ('.venv': poetry)",
   "name": "python3"
  },
  "language_info": {
   "codemirror_mode": {
    "name": "ipython",
    "version": 3
   },
   "file_extension": ".py",
   "mimetype": "text/x-python",
   "name": "python",
   "nbconvert_exporter": "python",
   "pygments_lexer": "ipython3",
   "version": "3.9.5"
  },
  "orig_nbformat": 4
 },
 "nbformat": 4,
 "nbformat_minor": 2
}
